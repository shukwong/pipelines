{
 "cells": [
  {
   "cell_type": "code",
   "execution_count": 1,
   "metadata": {},
   "outputs": [],
   "source": [
    "import json\n",
    "import glow\n",
    "glow.register(spark)"
   ]
  },
  {
   "cell_type": "code",
   "execution_count": 2,
   "metadata": {},
   "outputs": [],
   "source": [
    "#path = \"gs://confluence_test/ALL.chr22.phase3_shapeit2_mvncall_integrated_v5a.20130502.genotypes.vcf.gz\"\n",
    "\n",
    "path = \"gs://confluence_test/study/Study4_GWAS.vcf\"\n",
    "\n",
    "df = spark.read.format(\"vcf\").load(path)\n"
   ]
  },
  {
   "cell_type": "code",
   "execution_count": 3,
   "metadata": {},
   "outputs": [],
   "source": [
    "#df.write.format(\"bigvcf\").save(\"file:/test.vcf\")"
   ]
  },
  {
   "cell_type": "code",
   "execution_count": 4,
   "metadata": {},
   "outputs": [],
   "source": [
    "test_df = glow.transform('pipe', df, cmd='[\"/opt/conda/default/bin/bcftools\", \"view\", \"-\"]',\n",
    "              input_formatter = 'vcf', in_vcf_header='infer', output_formatter='vcf')"
   ]
  },
  {
   "cell_type": "code",
   "execution_count": 5,
   "metadata": {},
   "outputs": [
    {
     "name": "stdout",
     "output_type": "stream",
     "text": [
      "+----------+--------+--------+--------------------+---------------+----------------+----+-------+---------------------+--------------------+\n",
      "|contigName|   start|     end|               names|referenceAllele|alternateAlleles|qual|filters|splitFromMultiAllelic|           genotypes|\n",
      "+----------+--------+--------+--------------------+---------------+----------------+----+-------+---------------------+--------------------+\n",
      "|         5|49405662|49405663|[5:49405663:G:A,---]|              G|             [A]|null|     []|                false|[[1, [0.73, 0.255...|\n",
      "|         5|49405755|49405756|[rs62390078:49405...|              C|             [A]|null|     []|                false|[[1, [0.85, 0.15,...|\n",
      "|         5|49405755|49405756|[rs62390078:49405...|              C|             [T]|null|     []|                false|[[1, [0.209, 0.60...|\n",
      "|         5|49405757|49405758|[rs376842142:4940...|              T|             [C]|null|     []|                false|[[1, [0.85, 0.15,...|\n",
      "|         5|49405869|49405870|[5:49405870:G:A,---]|              G|             [A]|null|     []|                false|[[1, [0.61, 0.39,...|\n",
      "|         5|49406373|49406374|[5:49406374:A:G,---]|              A|             [G]|null|     []|                false|[[1, [1.0, 0.0, 0...|\n",
      "|         5|49406375|49406376|[5:49406376:A:T,---]|              A|             [T]|null|     []|                false|[[1, [1.0, 0.0, 0...|\n",
      "|         5|49406598|49406599|[rs201212533:4940...|              C|             [T]|null|     []|                false|[[1, [0.008, 0.28...|\n",
      "|         5|49406652|49406653|[rs140332947:4940...|              G|             [C]|null|     []|                false|[[1, [0.042, 0.36...|\n",
      "|         5|49406653|49406654|[rs145482570:4940...|              G|             [C]|null|     []|                false|[[1, [0.042, 0.36...|\n",
      "|         5|49407358|49407359|[rs112133823:4940...|              T|             [C]|null|     []|                false|[[1, [0.0, 0.0, 1...|\n",
      "|         5|49407359|49407360|[rs147514581:4940...|              A|             [C]|null|     []|                false|[[1, [0.0, 0.0, 1...|\n",
      "|         5|49407567|49407568|[rs142291161:4940...|              G|             [A]|null|     []|                false|[[1, [0.048, 0.64...|\n",
      "|         5|49409067|49409068|[5:49409068:A:T,---]|              A|             [T]|null|     []|                false|[[1, [1.0, 0.0, 0...|\n",
      "|         5|49409802|49409803|[rs139510515:4940...|              A|             [G]|null|     []|                false|[[1, [0.823, 0.17...|\n",
      "|         5|49410066|49410067|[5:49410067:G:T,---]|              G|             [T]|null|     []|                false|[[1, [1.0, 0.0, 0...|\n",
      "|         5|49410220|49410221|[5:49410221:G:T,---]|              G|             [T]|null|     []|                false|[[1, [0.996, 0.00...|\n",
      "|         5|49410221|49410222|[5:49410222:A:T,---]|              A|             [T]|null|     []|                false|[[1, [0.996, 0.00...|\n",
      "|         5|49410350|49410351|[rs78364116:49410...|              C|             [T]|null|     []|                false|[[1, [0.039, 0.37...|\n",
      "|         5|49410380|49410381|[5:49410381:A:G,---]|              A|             [G]|null|     []|                false|[[1, [0.758, 0.23...|\n",
      "+----------+--------+--------+--------------------+---------------+----------------+----+-------+---------------------+--------------------+\n",
      "only showing top 20 rows\n",
      "\n"
     ]
    }
   ],
   "source": [
    "test_df.show()"
   ]
  },
  {
   "cell_type": "code",
   "execution_count": 6,
   "metadata": {},
   "outputs": [
    {
     "data": {
      "text/plain": [
       "DataFrame[contigName: string, start: bigint, end: bigint, names: array<string>, referenceAllele: string, alternateAlleles: array<string>, qual: double, filters: array<string>, splitFromMultiAllelic: boolean, genotypes: array<struct<sampleId:string,posteriorProbabilities:array<double>,phased:boolean,calls:array<int>>>]"
      ]
     },
     "execution_count": 6,
     "metadata": {},
     "output_type": "execute_result"
    }
   ],
   "source": [
    "glow.transform('pipe_cleanup', df)"
   ]
  }
 ],
 "metadata": {
  "kernelspec": {
   "display_name": "PySpark",
   "language": "python",
   "name": "pyspark"
  },
  "language_info": {
   "codemirror_mode": {
    "name": "ipython",
    "version": 3
   },
   "file_extension": ".py",
   "mimetype": "text/x-python",
   "name": "python",
   "nbconvert_exporter": "python",
   "pygments_lexer": "ipython3",
   "version": "3.7.4"
  }
 },
 "nbformat": 4,
 "nbformat_minor": 2
}