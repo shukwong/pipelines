{
 "cells": [
  {
   "cell_type": "code",
   "execution_count": 1,
   "metadata": {},
   "outputs": [],
   "source": [
    "import json\n",
    "import glow\n",
    "glow.register(spark)"
   ]
  },
  {
   "cell_type": "code",
   "execution_count": 7,
   "metadata": {},
   "outputs": [],
   "source": [
    "df = spark.read.format(\"text\").load('file:///mnt/SAIGE/extdata/output/example_binary.varianceRatio.txt.sparseGRM.mtx.sample')"
   ]
  },
  {
   "cell_type": "code",
   "execution_count": 9,
   "metadata": {},
   "outputs": [
    {
     "data": {
      "text/plain": [
       "1000"
      ]
     },
     "execution_count": 9,
     "metadata": {},
     "output_type": "execute_result"
    }
   ],
   "source": [
    "df.count()"
   ]
  },
  {
   "cell_type": "code",
   "execution_count": 37,
   "metadata": {},
   "outputs": [],
   "source": [
    "saige_script = r\"\"\"#!/bin/sh\n",
    "set -e\n",
    "\n",
    "export tmpdir=$(mktemp -d -t vcf.XXXXXX)\n",
    "cat - > ${tmpdir}/input.vcf\n",
    "bgzip -c ${tmpdir}/input.vcf > ${tmpdir}/input.vcf.gz\n",
    "tabix -p vcf ${tmpdir}/input.vcf.gz\n",
    "\n",
    "export dataDir='/mnt/SAIGE/extdata'\n",
    " \n",
    "/opt/conda/default/bin/Rscript /mnt/SAIGE/extdata/step2_SPAtests.R \\\n",
    "    --vcfFile=${tmpdir}/input.vcf.gz \\\n",
    "    --vcfFileIndex=${tmpdir}/input.vcf.gz.tbi \\\n",
    "    --vcfField=DS \\\n",
    "    --chrom=1 \\\n",
    "    --minMAF=0.0001 \\\n",
    "    --minMAC=1 \\\n",
    "    --GMMATmodelFile=${dataDir}/output/example_binary.rda \\\n",
    "    --varianceRatioFile=${dataDir}/output/example_binary.varianceRatio.txt \\\n",
    "    --SAIGEOutputFile=${tmpdir}/output.txt \\\n",
    "    --numLinesOutput=2 \\\n",
    "    --IsOutputAFinCaseCtrl=TRUE \\\n",
    "    --IsOutputNinCaseCtrl=TRUE \\\n",
    "    --IsOutputHetHomCountsinCaseCtrl=TRUE \\\n",
    "    >&2\n",
    "    \n",
    "cat ${tmpdir}/output.txt\n",
    "rm -rf ${tmpdir}\n",
    "\"\"\""
   ]
  },
  {
   "cell_type": "code",
   "execution_count": 34,
   "metadata": {},
   "outputs": [],
   "source": [
    "cmd = json.dumps([\"bash\", \"-c\", saige_script])\n",
    "#output_df = glow.transform(\"pipe\", input_df, cmd=cmd, input_formatter='vcf', in_vcf_header=input_vcf,\n",
    "#                           output_formatter='csv', out_header='true', out_delimiter=' ')"
   ]
  },
  {
   "cell_type": "code",
   "execution_count": 35,
   "metadata": {},
   "outputs": [
    {
     "name": "stdout",
     "output_type": "stream",
     "text": [
      "[\"bash\", \"-c\", \"#!/bin/sh\\nset -e\\n\\nexport tmpdir=$(mktemp -d -t vcf.XXXXXX)\\ncat - > ${tmpdir}/input.vcf\\nbgzip -c ${tmpdir}/input.vcf > ${tmpdir}/input.vcf.gz\\ntabix -p vcf ${tmpdir}/input.vcf.gz\\n\\nexport dataDir='/mnt/SAIGE/extdata'\\n \\n/opt/conda/default/bin/Rscript /mnt/SAIGE/extdata/step2_SPAtests.R \\\\\\n    --vcfFile=${tmpdir}/input.vcf.gz \\\\\\n    --vcfFileIndex=${tmpdir}/input.vcf.gz.tbi \\\\\\n    --vcfField=DS \\\\\\n    --chrom=1 \\\\\\n    --minMAF=0.0001 \\\\\\n    --minMAC=1 \\\\\\n    --GMMATmodelFile=${dataDir}/output/example_binary.rda \\\\\\n    --varianceRatioFile=${dataDir}/output/example_binary.varianceRatio.txt \\\\\\n    --SAIGEOutputFile=${tmpdir}/output.txt \\\\\\n    --numLinesOutput=2 \\\\\\n    --IsOutputAFinCaseCtrl=TRUE \\\\\\n    --IsOutputNinCaseCtrl=TRUE \\\\\\n    --IsOutputHetHomCountsinCaseCtrl=TRUE \\\\\\n    >&2\\n    \\ncat ${tmpdir}/output.txt\\nrm -rf ${tmpdir}\\n\"]\n"
     ]
    }
   ],
   "source": [
    "print(cmd)"
   ]
  },
  {
   "cell_type": "code",
   "execution_count": 13,
   "metadata": {},
   "outputs": [],
   "source": [
    "input_vcf = \"file:///mnt/SAIGE/extdata/input/dosage_10markers.vcf.gz\"\n",
    "input_df = spark.read.format(\"vcf\").load(input_vcf)"
   ]
  },
  {
   "cell_type": "code",
   "execution_count": 36,
   "metadata": {},
   "outputs": [
    {
     "ename": "Py4JJavaError",
     "evalue": "An error occurred while calling z:io.projectglow.Glow.transform.\n: org.apache.spark.SparkException: Job aborted due to stage failure: Task 0 in stage 18.0 failed 4 times, most recent failure: Lost task 0.3 in stage 18.0 (TID 43, cluster-test-w-1.us-east4-a.c.nih-nci-dceg-episphere-dev.internal, executor 1): java.lang.IllegalStateException: Subprocess exited with status 1\n\tat io.projectglow.transformers.pipe.PipeIterator.hasNext(Piper.scala:203)\n\tat org.apache.spark.serializer.SerializationStream.writeAll(Serializer.scala:139)\n\tat org.apache.spark.serializer.SerializerManager.dataSerializeStream(SerializerManager.scala:174)\n\tat org.apache.spark.storage.BlockManager.$anonfun$doPutIterator$6(BlockManager.scala:1203)\n\tat org.apache.spark.storage.BlockManager.$anonfun$doPutIterator$6$adapted(BlockManager.scala:1201)\n\tat org.apache.spark.storage.DiskStore.put(DiskStore.scala:69)\n\tat org.apache.spark.storage.BlockManager.$anonfun$doPutIterator$1(BlockManager.scala:1201)\n\tat org.apache.spark.storage.BlockManager.doPut(BlockManager.scala:1091)\n\tat org.apache.spark.storage.BlockManager.doPutIterator(BlockManager.scala:1156)\n\tat org.apache.spark.storage.BlockManager.getOrElseUpdate(BlockManager.scala:882)\n\tat org.apache.spark.rdd.RDD.getOrCompute(RDD.scala:357)\n\tat org.apache.spark.rdd.RDD.iterator(RDD.scala:308)\n\tat org.apache.spark.rdd.MapPartitionsRDD.compute(MapPartitionsRDD.scala:52)\n\tat org.apache.spark.rdd.RDD.computeOrReadCheckpoint(RDD.scala:346)\n\tat org.apache.spark.rdd.RDD.iterator(RDD.scala:310)\n\tat org.apache.spark.scheduler.ResultTask.runTask(ResultTask.scala:90)\n\tat org.apache.spark.scheduler.Task.run(Task.scala:123)\n\tat org.apache.spark.executor.Executor$TaskRunner.$anonfun$run$3(Executor.scala:411)\n\tat org.apache.spark.util.Utils$.tryWithSafeFinally(Utils.scala:1360)\n\tat org.apache.spark.executor.Executor$TaskRunner.run(Executor.scala:414)\n\tat java.util.concurrent.ThreadPoolExecutor.runWorker(ThreadPoolExecutor.java:1149)\n\tat java.util.concurrent.ThreadPoolExecutor$Worker.run(ThreadPoolExecutor.java:624)\n\tat java.lang.Thread.run(Thread.java:748)\n\nDriver stacktrace:\n\tat org.apache.spark.scheduler.DAGScheduler.failJobAndIndependentStages(DAGScheduler.scala:1892)\n\tat org.apache.spark.scheduler.DAGScheduler.$anonfun$abortStage$2(DAGScheduler.scala:1880)\n\tat org.apache.spark.scheduler.DAGScheduler.$anonfun$abortStage$2$adapted(DAGScheduler.scala:1879)\n\tat scala.collection.mutable.ResizableArray.foreach(ResizableArray.scala:62)\n\tat scala.collection.mutable.ResizableArray.foreach$(ResizableArray.scala:55)\n\tat scala.collection.mutable.ArrayBuffer.foreach(ArrayBuffer.scala:49)\n\tat org.apache.spark.scheduler.DAGScheduler.abortStage(DAGScheduler.scala:1879)\n\tat org.apache.spark.scheduler.DAGScheduler.$anonfun$handleTaskSetFailed$1(DAGScheduler.scala:927)\n\tat org.apache.spark.scheduler.DAGScheduler.$anonfun$handleTaskSetFailed$1$adapted(DAGScheduler.scala:927)\n\tat scala.Option.foreach(Option.scala:407)\n\tat org.apache.spark.scheduler.DAGScheduler.handleTaskSetFailed(DAGScheduler.scala:927)\n\tat org.apache.spark.scheduler.DAGSchedulerEventProcessLoop.doOnReceive(DAGScheduler.scala:2113)\n\tat org.apache.spark.scheduler.DAGSchedulerEventProcessLoop.onReceive(DAGScheduler.scala:2062)\n\tat org.apache.spark.scheduler.DAGSchedulerEventProcessLoop.onReceive(DAGScheduler.scala:2051)\n\tat org.apache.spark.util.EventLoop$$anon$1.run(EventLoop.scala:49)\n\tat org.apache.spark.scheduler.DAGScheduler.runJob(DAGScheduler.scala:738)\n\tat org.apache.spark.SparkContext.runJob(SparkContext.scala:2061)\n\tat org.apache.spark.SparkContext.runJob(SparkContext.scala:2082)\n\tat org.apache.spark.SparkContext.runJob(SparkContext.scala:2101)\n\tat org.apache.spark.SparkContext.runJob(SparkContext.scala:2126)\n\tat org.apache.spark.rdd.RDD.$anonfun$collect$1(RDD.scala:990)\n\tat org.apache.spark.rdd.RDDOperationScope$.withScope(RDDOperationScope.scala:151)\n\tat org.apache.spark.rdd.RDDOperationScope$.withScope(RDDOperationScope.scala:112)\n\tat org.apache.spark.rdd.RDD.withScope(RDD.scala:385)\n\tat org.apache.spark.rdd.RDD.collect(RDD.scala:989)\n\tat io.projectglow.transformers.pipe.Piper$.pipe(Piper.scala:81)\n\tat io.projectglow.transformers.pipe.PipeTransformer$PipeTransformerImpl.transform(PipeTransformer.scala:126)\n\tat io.projectglow.transformers.pipe.PipeTransformer.transform(PipeTransformer.scala:38)\n\tat io.projectglow.GlowBase.transform(Glow.scala:56)\n\tat io.projectglow.GlowBase.transform(Glow.scala:70)\n\tat io.projectglow.Glow.transform(Glow.scala)\n\tat sun.reflect.NativeMethodAccessorImpl.invoke0(Native Method)\n\tat sun.reflect.NativeMethodAccessorImpl.invoke(NativeMethodAccessorImpl.java:62)\n\tat sun.reflect.DelegatingMethodAccessorImpl.invoke(DelegatingMethodAccessorImpl.java:43)\n\tat java.lang.reflect.Method.invoke(Method.java:498)\n\tat py4j.reflection.MethodInvoker.invoke(MethodInvoker.java:244)\n\tat py4j.reflection.ReflectionEngine.invoke(ReflectionEngine.java:357)\n\tat py4j.Gateway.invoke(Gateway.java:282)\n\tat py4j.commands.AbstractCommand.invokeMethod(AbstractCommand.java:132)\n\tat py4j.commands.CallCommand.execute(CallCommand.java:79)\n\tat py4j.GatewayConnection.run(GatewayConnection.java:238)\n\tat java.lang.Thread.run(Thread.java:748)\nCaused by: java.lang.IllegalStateException: Subprocess exited with status 1\n\tat io.projectglow.transformers.pipe.PipeIterator.hasNext(Piper.scala:203)\n\tat org.apache.spark.serializer.SerializationStream.writeAll(Serializer.scala:139)\n\tat org.apache.spark.serializer.SerializerManager.dataSerializeStream(SerializerManager.scala:174)\n\tat org.apache.spark.storage.BlockManager.$anonfun$doPutIterator$6(BlockManager.scala:1203)\n\tat org.apache.spark.storage.BlockManager.$anonfun$doPutIterator$6$adapted(BlockManager.scala:1201)\n\tat org.apache.spark.storage.DiskStore.put(DiskStore.scala:69)\n\tat org.apache.spark.storage.BlockManager.$anonfun$doPutIterator$1(BlockManager.scala:1201)\n\tat org.apache.spark.storage.BlockManager.doPut(BlockManager.scala:1091)\n\tat org.apache.spark.storage.BlockManager.doPutIterator(BlockManager.scala:1156)\n\tat org.apache.spark.storage.BlockManager.getOrElseUpdate(BlockManager.scala:882)\n\tat org.apache.spark.rdd.RDD.getOrCompute(RDD.scala:357)\n\tat org.apache.spark.rdd.RDD.iterator(RDD.scala:308)\n\tat org.apache.spark.rdd.MapPartitionsRDD.compute(MapPartitionsRDD.scala:52)\n\tat org.apache.spark.rdd.RDD.computeOrReadCheckpoint(RDD.scala:346)\n\tat org.apache.spark.rdd.RDD.iterator(RDD.scala:310)\n\tat org.apache.spark.scheduler.ResultTask.runTask(ResultTask.scala:90)\n\tat org.apache.spark.scheduler.Task.run(Task.scala:123)\n\tat org.apache.spark.executor.Executor$TaskRunner.$anonfun$run$3(Executor.scala:411)\n\tat org.apache.spark.util.Utils$.tryWithSafeFinally(Utils.scala:1360)\n\tat org.apache.spark.executor.Executor$TaskRunner.run(Executor.scala:414)\n\tat java.util.concurrent.ThreadPoolExecutor.runWorker(ThreadPoolExecutor.java:1149)\n\tat java.util.concurrent.ThreadPoolExecutor$Worker.run(ThreadPoolExecutor.java:624)\n\t... 1 more\n",
     "output_type": "error",
     "traceback": [
      "\u001b[0;31m---------------------------------------------------------------------------\u001b[0m",
      "\u001b[0;31mPy4JJavaError\u001b[0m                             Traceback (most recent call last)",
      "\u001b[0;32m<ipython-input-36-3de7cbd58a26>\u001b[0m in \u001b[0;36m<module>\u001b[0;34m\u001b[0m\n\u001b[1;32m      1\u001b[0m output_df = glow.transform(\"pipe\", input_df, cmd=cmd, input_formatter='vcf', in_vcf_header=input_vcf,\n\u001b[0;32m----> 2\u001b[0;31m                           output_formatter='csv', out_header='true', out_delimiter=' ')\n\u001b[0m",
      "\u001b[0;32m/opt/conda/anaconda/lib/python3.7/site-packages/glow/glow.py\u001b[0m in \u001b[0;36mtransform\u001b[0;34m(operation, df, arg_map, **kwargs)\u001b[0m\n\u001b[1;32m     33\u001b[0m     \u001b[0mtransform_fn\u001b[0m \u001b[0;34m=\u001b[0m \u001b[0mSparkContext\u001b[0m\u001b[0;34m.\u001b[0m\u001b[0m_jvm\u001b[0m\u001b[0;34m.\u001b[0m\u001b[0mio\u001b[0m\u001b[0;34m.\u001b[0m\u001b[0mprojectglow\u001b[0m\u001b[0;34m.\u001b[0m\u001b[0mGlow\u001b[0m\u001b[0;34m.\u001b[0m\u001b[0mtransform\u001b[0m\u001b[0;34m\u001b[0m\u001b[0;34m\u001b[0m\u001b[0m\n\u001b[1;32m     34\u001b[0m     \u001b[0margs\u001b[0m \u001b[0;34m=\u001b[0m \u001b[0marg_map\u001b[0m \u001b[0;32mif\u001b[0m \u001b[0marg_map\u001b[0m \u001b[0;32mis\u001b[0m \u001b[0;32mnot\u001b[0m \u001b[0;32mNone\u001b[0m \u001b[0;32melse\u001b[0m \u001b[0mkwargs\u001b[0m\u001b[0;34m\u001b[0m\u001b[0;34m\u001b[0m\u001b[0m\n\u001b[0;32m---> 35\u001b[0;31m     \u001b[0moutput_jdf\u001b[0m \u001b[0;34m=\u001b[0m \u001b[0mtransform_fn\u001b[0m\u001b[0;34m(\u001b[0m\u001b[0moperation\u001b[0m\u001b[0;34m,\u001b[0m \u001b[0mdf\u001b[0m\u001b[0;34m.\u001b[0m\u001b[0m_jdf\u001b[0m\u001b[0;34m,\u001b[0m \u001b[0margs\u001b[0m\u001b[0;34m)\u001b[0m\u001b[0;34m\u001b[0m\u001b[0;34m\u001b[0m\u001b[0m\n\u001b[0m\u001b[1;32m     36\u001b[0m     \u001b[0moutput_df\u001b[0m \u001b[0;34m=\u001b[0m \u001b[0mDataFrame\u001b[0m\u001b[0;34m(\u001b[0m\u001b[0moutput_jdf\u001b[0m\u001b[0;34m,\u001b[0m \u001b[0mSQLContext\u001b[0m\u001b[0;34m.\u001b[0m\u001b[0mgetOrCreate\u001b[0m\u001b[0;34m(\u001b[0m\u001b[0msc\u001b[0m\u001b[0;34m)\u001b[0m\u001b[0;34m)\u001b[0m\u001b[0;34m\u001b[0m\u001b[0;34m\u001b[0m\u001b[0m\n\u001b[1;32m     37\u001b[0m \u001b[0;34m\u001b[0m\u001b[0m\n",
      "\u001b[0;32m/usr/lib/spark/python/lib/py4j-0.10.7-src.zip/py4j/java_gateway.py\u001b[0m in \u001b[0;36m__call__\u001b[0;34m(self, *args)\u001b[0m\n\u001b[1;32m   1255\u001b[0m         \u001b[0manswer\u001b[0m \u001b[0;34m=\u001b[0m \u001b[0mself\u001b[0m\u001b[0;34m.\u001b[0m\u001b[0mgateway_client\u001b[0m\u001b[0;34m.\u001b[0m\u001b[0msend_command\u001b[0m\u001b[0;34m(\u001b[0m\u001b[0mcommand\u001b[0m\u001b[0;34m)\u001b[0m\u001b[0;34m\u001b[0m\u001b[0;34m\u001b[0m\u001b[0m\n\u001b[1;32m   1256\u001b[0m         return_value = get_return_value(\n\u001b[0;32m-> 1257\u001b[0;31m             answer, self.gateway_client, self.target_id, self.name)\n\u001b[0m\u001b[1;32m   1258\u001b[0m \u001b[0;34m\u001b[0m\u001b[0m\n\u001b[1;32m   1259\u001b[0m         \u001b[0;32mfor\u001b[0m \u001b[0mtemp_arg\u001b[0m \u001b[0;32min\u001b[0m \u001b[0mtemp_args\u001b[0m\u001b[0;34m:\u001b[0m\u001b[0;34m\u001b[0m\u001b[0;34m\u001b[0m\u001b[0m\n",
      "\u001b[0;32m/usr/lib/spark/python/pyspark/sql/utils.py\u001b[0m in \u001b[0;36mdeco\u001b[0;34m(*a, **kw)\u001b[0m\n\u001b[1;32m     61\u001b[0m     \u001b[0;32mdef\u001b[0m \u001b[0mdeco\u001b[0m\u001b[0;34m(\u001b[0m\u001b[0;34m*\u001b[0m\u001b[0ma\u001b[0m\u001b[0;34m,\u001b[0m \u001b[0;34m**\u001b[0m\u001b[0mkw\u001b[0m\u001b[0;34m)\u001b[0m\u001b[0;34m:\u001b[0m\u001b[0;34m\u001b[0m\u001b[0;34m\u001b[0m\u001b[0m\n\u001b[1;32m     62\u001b[0m         \u001b[0;32mtry\u001b[0m\u001b[0;34m:\u001b[0m\u001b[0;34m\u001b[0m\u001b[0;34m\u001b[0m\u001b[0m\n\u001b[0;32m---> 63\u001b[0;31m             \u001b[0;32mreturn\u001b[0m \u001b[0mf\u001b[0m\u001b[0;34m(\u001b[0m\u001b[0;34m*\u001b[0m\u001b[0ma\u001b[0m\u001b[0;34m,\u001b[0m \u001b[0;34m**\u001b[0m\u001b[0mkw\u001b[0m\u001b[0;34m)\u001b[0m\u001b[0;34m\u001b[0m\u001b[0;34m\u001b[0m\u001b[0m\n\u001b[0m\u001b[1;32m     64\u001b[0m         \u001b[0;32mexcept\u001b[0m \u001b[0mpy4j\u001b[0m\u001b[0;34m.\u001b[0m\u001b[0mprotocol\u001b[0m\u001b[0;34m.\u001b[0m\u001b[0mPy4JJavaError\u001b[0m \u001b[0;32mas\u001b[0m \u001b[0me\u001b[0m\u001b[0;34m:\u001b[0m\u001b[0;34m\u001b[0m\u001b[0;34m\u001b[0m\u001b[0m\n\u001b[1;32m     65\u001b[0m             \u001b[0ms\u001b[0m \u001b[0;34m=\u001b[0m \u001b[0me\u001b[0m\u001b[0;34m.\u001b[0m\u001b[0mjava_exception\u001b[0m\u001b[0;34m.\u001b[0m\u001b[0mtoString\u001b[0m\u001b[0;34m(\u001b[0m\u001b[0;34m)\u001b[0m\u001b[0;34m\u001b[0m\u001b[0;34m\u001b[0m\u001b[0m\n",
      "\u001b[0;32m/usr/lib/spark/python/lib/py4j-0.10.7-src.zip/py4j/protocol.py\u001b[0m in \u001b[0;36mget_return_value\u001b[0;34m(answer, gateway_client, target_id, name)\u001b[0m\n\u001b[1;32m    326\u001b[0m                 raise Py4JJavaError(\n\u001b[1;32m    327\u001b[0m                     \u001b[0;34m\"An error occurred while calling {0}{1}{2}.\\n\"\u001b[0m\u001b[0;34m.\u001b[0m\u001b[0;34m\u001b[0m\u001b[0;34m\u001b[0m\u001b[0m\n\u001b[0;32m--> 328\u001b[0;31m                     format(target_id, \".\", name), value)\n\u001b[0m\u001b[1;32m    329\u001b[0m             \u001b[0;32melse\u001b[0m\u001b[0;34m:\u001b[0m\u001b[0;34m\u001b[0m\u001b[0;34m\u001b[0m\u001b[0m\n\u001b[1;32m    330\u001b[0m                 raise Py4JError(\n",
      "\u001b[0;31mPy4JJavaError\u001b[0m: An error occurred while calling z:io.projectglow.Glow.transform.\n: org.apache.spark.SparkException: Job aborted due to stage failure: Task 0 in stage 18.0 failed 4 times, most recent failure: Lost task 0.3 in stage 18.0 (TID 43, cluster-test-w-1.us-east4-a.c.nih-nci-dceg-episphere-dev.internal, executor 1): java.lang.IllegalStateException: Subprocess exited with status 1\n\tat io.projectglow.transformers.pipe.PipeIterator.hasNext(Piper.scala:203)\n\tat org.apache.spark.serializer.SerializationStream.writeAll(Serializer.scala:139)\n\tat org.apache.spark.serializer.SerializerManager.dataSerializeStream(SerializerManager.scala:174)\n\tat org.apache.spark.storage.BlockManager.$anonfun$doPutIterator$6(BlockManager.scala:1203)\n\tat org.apache.spark.storage.BlockManager.$anonfun$doPutIterator$6$adapted(BlockManager.scala:1201)\n\tat org.apache.spark.storage.DiskStore.put(DiskStore.scala:69)\n\tat org.apache.spark.storage.BlockManager.$anonfun$doPutIterator$1(BlockManager.scala:1201)\n\tat org.apache.spark.storage.BlockManager.doPut(BlockManager.scala:1091)\n\tat org.apache.spark.storage.BlockManager.doPutIterator(BlockManager.scala:1156)\n\tat org.apache.spark.storage.BlockManager.getOrElseUpdate(BlockManager.scala:882)\n\tat org.apache.spark.rdd.RDD.getOrCompute(RDD.scala:357)\n\tat org.apache.spark.rdd.RDD.iterator(RDD.scala:308)\n\tat org.apache.spark.rdd.MapPartitionsRDD.compute(MapPartitionsRDD.scala:52)\n\tat org.apache.spark.rdd.RDD.computeOrReadCheckpoint(RDD.scala:346)\n\tat org.apache.spark.rdd.RDD.iterator(RDD.scala:310)\n\tat org.apache.spark.scheduler.ResultTask.runTask(ResultTask.scala:90)\n\tat org.apache.spark.scheduler.Task.run(Task.scala:123)\n\tat org.apache.spark.executor.Executor$TaskRunner.$anonfun$run$3(Executor.scala:411)\n\tat org.apache.spark.util.Utils$.tryWithSafeFinally(Utils.scala:1360)\n\tat org.apache.spark.executor.Executor$TaskRunner.run(Executor.scala:414)\n\tat java.util.concurrent.ThreadPoolExecutor.runWorker(ThreadPoolExecutor.java:1149)\n\tat java.util.concurrent.ThreadPoolExecutor$Worker.run(ThreadPoolExecutor.java:624)\n\tat java.lang.Thread.run(Thread.java:748)\n\nDriver stacktrace:\n\tat org.apache.spark.scheduler.DAGScheduler.failJobAndIndependentStages(DAGScheduler.scala:1892)\n\tat org.apache.spark.scheduler.DAGScheduler.$anonfun$abortStage$2(DAGScheduler.scala:1880)\n\tat org.apache.spark.scheduler.DAGScheduler.$anonfun$abortStage$2$adapted(DAGScheduler.scala:1879)\n\tat scala.collection.mutable.ResizableArray.foreach(ResizableArray.scala:62)\n\tat scala.collection.mutable.ResizableArray.foreach$(ResizableArray.scala:55)\n\tat scala.collection.mutable.ArrayBuffer.foreach(ArrayBuffer.scala:49)\n\tat org.apache.spark.scheduler.DAGScheduler.abortStage(DAGScheduler.scala:1879)\n\tat org.apache.spark.scheduler.DAGScheduler.$anonfun$handleTaskSetFailed$1(DAGScheduler.scala:927)\n\tat org.apache.spark.scheduler.DAGScheduler.$anonfun$handleTaskSetFailed$1$adapted(DAGScheduler.scala:927)\n\tat scala.Option.foreach(Option.scala:407)\n\tat org.apache.spark.scheduler.DAGScheduler.handleTaskSetFailed(DAGScheduler.scala:927)\n\tat org.apache.spark.scheduler.DAGSchedulerEventProcessLoop.doOnReceive(DAGScheduler.scala:2113)\n\tat org.apache.spark.scheduler.DAGSchedulerEventProcessLoop.onReceive(DAGScheduler.scala:2062)\n\tat org.apache.spark.scheduler.DAGSchedulerEventProcessLoop.onReceive(DAGScheduler.scala:2051)\n\tat org.apache.spark.util.EventLoop$$anon$1.run(EventLoop.scala:49)\n\tat org.apache.spark.scheduler.DAGScheduler.runJob(DAGScheduler.scala:738)\n\tat org.apache.spark.SparkContext.runJob(SparkContext.scala:2061)\n\tat org.apache.spark.SparkContext.runJob(SparkContext.scala:2082)\n\tat org.apache.spark.SparkContext.runJob(SparkContext.scala:2101)\n\tat org.apache.spark.SparkContext.runJob(SparkContext.scala:2126)\n\tat org.apache.spark.rdd.RDD.$anonfun$collect$1(RDD.scala:990)\n\tat org.apache.spark.rdd.RDDOperationScope$.withScope(RDDOperationScope.scala:151)\n\tat org.apache.spark.rdd.RDDOperationScope$.withScope(RDDOperationScope.scala:112)\n\tat org.apache.spark.rdd.RDD.withScope(RDD.scala:385)\n\tat org.apache.spark.rdd.RDD.collect(RDD.scala:989)\n\tat io.projectglow.transformers.pipe.Piper$.pipe(Piper.scala:81)\n\tat io.projectglow.transformers.pipe.PipeTransformer$PipeTransformerImpl.transform(PipeTransformer.scala:126)\n\tat io.projectglow.transformers.pipe.PipeTransformer.transform(PipeTransformer.scala:38)\n\tat io.projectglow.GlowBase.transform(Glow.scala:56)\n\tat io.projectglow.GlowBase.transform(Glow.scala:70)\n\tat io.projectglow.Glow.transform(Glow.scala)\n\tat sun.reflect.NativeMethodAccessorImpl.invoke0(Native Method)\n\tat sun.reflect.NativeMethodAccessorImpl.invoke(NativeMethodAccessorImpl.java:62)\n\tat sun.reflect.DelegatingMethodAccessorImpl.invoke(DelegatingMethodAccessorImpl.java:43)\n\tat java.lang.reflect.Method.invoke(Method.java:498)\n\tat py4j.reflection.MethodInvoker.invoke(MethodInvoker.java:244)\n\tat py4j.reflection.ReflectionEngine.invoke(ReflectionEngine.java:357)\n\tat py4j.Gateway.invoke(Gateway.java:282)\n\tat py4j.commands.AbstractCommand.invokeMethod(AbstractCommand.java:132)\n\tat py4j.commands.CallCommand.execute(CallCommand.java:79)\n\tat py4j.GatewayConnection.run(GatewayConnection.java:238)\n\tat java.lang.Thread.run(Thread.java:748)\nCaused by: java.lang.IllegalStateException: Subprocess exited with status 1\n\tat io.projectglow.transformers.pipe.PipeIterator.hasNext(Piper.scala:203)\n\tat org.apache.spark.serializer.SerializationStream.writeAll(Serializer.scala:139)\n\tat org.apache.spark.serializer.SerializerManager.dataSerializeStream(SerializerManager.scala:174)\n\tat org.apache.spark.storage.BlockManager.$anonfun$doPutIterator$6(BlockManager.scala:1203)\n\tat org.apache.spark.storage.BlockManager.$anonfun$doPutIterator$6$adapted(BlockManager.scala:1201)\n\tat org.apache.spark.storage.DiskStore.put(DiskStore.scala:69)\n\tat org.apache.spark.storage.BlockManager.$anonfun$doPutIterator$1(BlockManager.scala:1201)\n\tat org.apache.spark.storage.BlockManager.doPut(BlockManager.scala:1091)\n\tat org.apache.spark.storage.BlockManager.doPutIterator(BlockManager.scala:1156)\n\tat org.apache.spark.storage.BlockManager.getOrElseUpdate(BlockManager.scala:882)\n\tat org.apache.spark.rdd.RDD.getOrCompute(RDD.scala:357)\n\tat org.apache.spark.rdd.RDD.iterator(RDD.scala:308)\n\tat org.apache.spark.rdd.MapPartitionsRDD.compute(MapPartitionsRDD.scala:52)\n\tat org.apache.spark.rdd.RDD.computeOrReadCheckpoint(RDD.scala:346)\n\tat org.apache.spark.rdd.RDD.iterator(RDD.scala:310)\n\tat org.apache.spark.scheduler.ResultTask.runTask(ResultTask.scala:90)\n\tat org.apache.spark.scheduler.Task.run(Task.scala:123)\n\tat org.apache.spark.executor.Executor$TaskRunner.$anonfun$run$3(Executor.scala:411)\n\tat org.apache.spark.util.Utils$.tryWithSafeFinally(Utils.scala:1360)\n\tat org.apache.spark.executor.Executor$TaskRunner.run(Executor.scala:414)\n\tat java.util.concurrent.ThreadPoolExecutor.runWorker(ThreadPoolExecutor.java:1149)\n\tat java.util.concurrent.ThreadPoolExecutor$Worker.run(ThreadPoolExecutor.java:624)\n\t... 1 more\n"
     ]
    }
   ],
   "source": [
    "output_df = glow.transform(\"pipe\", input_df, cmd=cmd, input_formatter='vcf', in_vcf_header=input_vcf,\n",
    "                          output_formatter='csv', out_header='true', out_delimiter=' ')"
   ]
  },
  {
   "cell_type": "code",
   "execution_count": 22,
   "metadata": {},
   "outputs": [
    {
     "name": "stdout",
     "output_type": "stream",
     "text": [
      "+--------------------+\n",
      "|##fileformat=VCFv4.2|\n",
      "+--------------------+\n",
      "|##FORMAT=<ID=DS,N...|\n",
      "|##INFO=<ID=PR,Num...|\n",
      "|##contig=<ID=1,le...|\n",
      "| ##fileDate=20171104|\n",
      "| ##source=PLINKv1.90|\n",
      "|#CHROM\tPOS\tID\tREF...|\n",
      "|1\t4\trs4\tA\tC\t.\t.\tP...|\n",
      "|1\t9\trs9\tA\tC\t.\t.\tP...|\n",
      "|1\t10\trs10\tA\tC\t.\t....|\n",
      "|1\t11\trs11\tA\tC\t.\t....|\n",
      "|1\t12\trs12\tA\tC\t.\t....|\n",
      "|1\t14\trs14\tA\tC\t.\t....|\n",
      "|1\t15\trs15\tA\tC\t.\t....|\n",
      "|1\t17\trs17\tA\tC\t.\t....|\n",
      "|1\t20\trs20\tA\tC\t.\t....|\n",
      "|1\t40000000\trs22\tA...|\n",
      "+--------------------+\n",
      "\n"
     ]
    }
   ],
   "source": [
    "output_df.show()"
   ]
  },
  {
   "cell_type": "code",
   "execution_count": 2,
   "metadata": {},
   "outputs": [],
   "source": [
    "#path = \"gs://confluence_test/ALL.chr22.phase3_shapeit2_mvncall_integrated_v5a.20130502.genotypes.vcf.gz\"\n",
    "\n",
    "path = \"gs://confluence_test/study/Study4_GWAS.vcf\"\n",
    "\n",
    "df = spark.read.format(\"vcf\").load(path)"
   ]
  },
  {
   "cell_type": "code",
   "execution_count": 3,
   "metadata": {},
   "outputs": [],
   "source": [
    "test_df = glow.transform('pipe', df, cmd='[\"/opt/conda/default/bin/bcftools\", \"view\", \"-\"]',\n",
    "              input_formatter = 'vcf', in_vcf_header='infer', output_formatter='vcf')"
   ]
  },
  {
   "cell_type": "code",
   "execution_count": 4,
   "metadata": {},
   "outputs": [
    {
     "name": "stdout",
     "output_type": "stream",
     "text": [
      "+----------+--------+--------+--------------------+---------------+----------------+----+-------+---------------------+--------------------+\n",
      "|contigName|   start|     end|               names|referenceAllele|alternateAlleles|qual|filters|splitFromMultiAllelic|           genotypes|\n",
      "+----------+--------+--------+--------------------+---------------+----------------+----+-------+---------------------+--------------------+\n",
      "|         5|49405662|49405663|[5:49405663:G:A,---]|              G|             [A]|null|     []|                false|[[1, [0.73, 0.255...|\n",
      "|         5|49405755|49405756|[rs62390078:49405...|              C|             [A]|null|     []|                false|[[1, [0.85, 0.15,...|\n",
      "|         5|49405755|49405756|[rs62390078:49405...|              C|             [T]|null|     []|                false|[[1, [0.209, 0.60...|\n",
      "|         5|49405757|49405758|[rs376842142:4940...|              T|             [C]|null|     []|                false|[[1, [0.85, 0.15,...|\n",
      "|         5|49405869|49405870|[5:49405870:G:A,---]|              G|             [A]|null|     []|                false|[[1, [0.61, 0.39,...|\n",
      "|         5|49406373|49406374|[5:49406374:A:G,---]|              A|             [G]|null|     []|                false|[[1, [1.0, 0.0, 0...|\n",
      "|         5|49406375|49406376|[5:49406376:A:T,---]|              A|             [T]|null|     []|                false|[[1, [1.0, 0.0, 0...|\n",
      "|         5|49406598|49406599|[rs201212533:4940...|              C|             [T]|null|     []|                false|[[1, [0.008, 0.28...|\n",
      "|         5|49406652|49406653|[rs140332947:4940...|              G|             [C]|null|     []|                false|[[1, [0.042, 0.36...|\n",
      "|         5|49406653|49406654|[rs145482570:4940...|              G|             [C]|null|     []|                false|[[1, [0.042, 0.36...|\n",
      "|         5|49407358|49407359|[rs112133823:4940...|              T|             [C]|null|     []|                false|[[1, [0.0, 0.0, 1...|\n",
      "|         5|49407359|49407360|[rs147514581:4940...|              A|             [C]|null|     []|                false|[[1, [0.0, 0.0, 1...|\n",
      "|         5|49407567|49407568|[rs142291161:4940...|              G|             [A]|null|     []|                false|[[1, [0.048, 0.64...|\n",
      "|         5|49409067|49409068|[5:49409068:A:T,---]|              A|             [T]|null|     []|                false|[[1, [1.0, 0.0, 0...|\n",
      "|         5|49409802|49409803|[rs139510515:4940...|              A|             [G]|null|     []|                false|[[1, [0.823, 0.17...|\n",
      "|         5|49410066|49410067|[5:49410067:G:T,---]|              G|             [T]|null|     []|                false|[[1, [1.0, 0.0, 0...|\n",
      "|         5|49410220|49410221|[5:49410221:G:T,---]|              G|             [T]|null|     []|                false|[[1, [0.996, 0.00...|\n",
      "|         5|49410221|49410222|[5:49410222:A:T,---]|              A|             [T]|null|     []|                false|[[1, [0.996, 0.00...|\n",
      "|         5|49410350|49410351|[rs78364116:49410...|              C|             [T]|null|     []|                false|[[1, [0.039, 0.37...|\n",
      "|         5|49410380|49410381|[5:49410381:A:G,---]|              A|             [G]|null|     []|                false|[[1, [0.758, 0.23...|\n",
      "+----------+--------+--------+--------------------+---------------+----------------+----+-------+---------------------+--------------------+\n",
      "only showing top 20 rows\n",
      "\n"
     ]
    }
   ],
   "source": [
    "test_df.show()"
   ]
  },
  {
   "cell_type": "code",
   "execution_count": null,
   "metadata": {},
   "outputs": [],
   "source": []
  }
 ],
 "metadata": {
  "kernelspec": {
   "display_name": "PySpark",
   "language": "python",
   "name": "pyspark"
  },
  "language_info": {
   "codemirror_mode": {
    "name": "ipython",
    "version": 3
   },
   "file_extension": ".py",
   "mimetype": "text/x-python",
   "name": "python",
   "nbconvert_exporter": "python",
   "pygments_lexer": "ipython3",
   "version": "3.7.4"
  }
 },
 "nbformat": 4,
 "nbformat_minor": 2
}