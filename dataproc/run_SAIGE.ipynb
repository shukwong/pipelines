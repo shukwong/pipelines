{
 "cells": [
  {
   "cell_type": "code",
   "execution_count": 1,
   "metadata": {},
   "outputs": [],
   "source": [
    "import json\n",
    "import glow\n",
    "glow.register(spark)"
   ]
  },
  {
   "cell_type": "code",
   "execution_count": 7,
   "metadata": {},
   "outputs": [],
   "source": [
    "df = spark.read.format(\"text\").load('file:///mnt/SAIGE/extdata/output/example_binary.varianceRatio.txt.sparseGRM.mtx.sample')"
   ]
  },
  {
   "cell_type": "code",
   "execution_count": 9,
   "metadata": {},
   "outputs": [
    {
     "data": {
      "text/plain": [
       "1000"
      ]
     },
     "execution_count": 9,
     "metadata": {},
     "output_type": "execute_result"
    }
   ],
   "source": [
    "df.count()"
   ]
  },
  {
   "cell_type": "code",
   "execution_count": 37,
   "metadata": {},
   "outputs": [],
   "source": [
    "saige_script = r\"\"\"#!/bin/sh\n",
    "set -e\n",
    "\n",
    "export tmpdir=$(mktemp -d -t vcf.XXXXXX)\n",
    "cat - > ${tmpdir}/input.vcf\n",
    "bgzip -c ${tmpdir}/input.vcf > ${tmpdir}/input.vcf.gz\n",
    "tabix -p vcf ${tmpdir}/input.vcf.gz\n",
    "\n",
    "export dataDir='/mnt/SAIGE/extdata'\n",
    " \n",
    "/opt/conda/default/bin/Rscript /mnt/SAIGE/extdata/step2_SPAtests.R \\\n",
    "    --vcfFile=${tmpdir}/input.vcf.gz \\\n",
    "    --vcfFileIndex=${tmpdir}/input.vcf.gz.tbi \\\n",
    "    --vcfField=DS \\\n",
    "    --chrom=1 \\\n",
    "    --minMAF=0.0001 \\\n",
    "    --minMAC=1 \\\n",
    "    --GMMATmodelFile=${dataDir}/output/example_binary.rda \\\n",
    "    --varianceRatioFile=${dataDir}/output/example_binary.varianceRatio.txt \\\n",
    "    --SAIGEOutputFile=${tmpdir}/output.txt \\\n",
    "    --numLinesOutput=2 \\\n",
    "    --IsOutputAFinCaseCtrl=TRUE \\\n",
    "    --IsOutputNinCaseCtrl=TRUE \\\n",
    "    --IsOutputHetHomCountsinCaseCtrl=TRUE \\\n",
    "    >&2\n",
    "    \n",
    "cat ${tmpdir}/output.txt\n",
    "rm -rf ${tmpdir}\n",
    "\"\"\""
   ]
  },
  {
   "cell_type": "code",
   "execution_count": 38,
   "metadata": {},
   "outputs": [],
   "source": [
    "cmd = json.dumps([\"bash\", \"-c\", saige_script])\n",
    "#output_df = glow.transform(\"pipe\", input_df, cmd=cmd, input_formatter='vcf', in_vcf_header=input_vcf,\n",
    "#                           output_formatter='csv', out_header='true', out_delimiter=' ')"
   ]
  },
  {
   "cell_type": "code",
   "execution_count": 39,
   "metadata": {},
   "outputs": [
    {
     "name": "stdout",
     "output_type": "stream",
     "text": [
      "[\"bash\", \"-c\", \"#!/bin/sh\\nset -e\\n\\nexport tmpdir=$(mktemp -d -t vcf.XXXXXX)\\ncat - > ${tmpdir}/input.vcf\\nbgzip -c ${tmpdir}/input.vcf > ${tmpdir}/input.vcf.gz\\ntabix -p vcf ${tmpdir}/input.vcf.gz\\n\\nexport dataDir='/mnt/SAIGE/extdata'\\n \\n/opt/conda/default/bin/Rscript /mnt/SAIGE/extdata/step2_SPAtests.R \\\\\\n    --vcfFile=${tmpdir}/input.vcf.gz \\\\\\n    --vcfFileIndex=${tmpdir}/input.vcf.gz.tbi \\\\\\n    --vcfField=DS \\\\\\n    --chrom=1 \\\\\\n    --minMAF=0.0001 \\\\\\n    --minMAC=1 \\\\\\n    --GMMATmodelFile=${dataDir}/output/example_binary.rda \\\\\\n    --varianceRatioFile=${dataDir}/output/example_binary.varianceRatio.txt \\\\\\n    --SAIGEOutputFile=${tmpdir}/output.txt \\\\\\n    --numLinesOutput=2 \\\\\\n    --IsOutputAFinCaseCtrl=TRUE \\\\\\n    --IsOutputNinCaseCtrl=TRUE \\\\\\n    --IsOutputHetHomCountsinCaseCtrl=TRUE \\\\\\n    >&2\\n    \\ncat ${tmpdir}/output.txt\\nrm -rf ${tmpdir}\\n\"]\n"
     ]
    }
   ],
   "source": [
    "print(cmd)"
   ]
  },
  {
   "cell_type": "code",
   "execution_count": 13,
   "metadata": {},
   "outputs": [],
   "source": [
    "input_vcf = \"file:///mnt/SAIGE/extdata/input/dosage_10markers.vcf.gz\"\n",
    "input_df = spark.read.format(\"vcf\").load(input_vcf)"
   ]
  },
  {
   "cell_type": "code",
   "execution_count": 40,
   "metadata": {},
   "outputs": [],
   "source": [
    "output_df = glow.transform(\"pipe\", input_df, cmd=cmd, input_formatter='vcf', in_vcf_header=input_vcf,\n",
    "                          output_formatter='csv', out_header='true', out_delimiter=' ')"
   ]
  },
  {
   "cell_type": "code",
   "execution_count": 41,
   "metadata": {},
   "outputs": [
    {
     "name": "stdout",
     "output_type": "stream",
     "text": [
      "+---+--------+-----+-------+-------+----------+-------------------+--------------+----+--------------------+-----------------+-------------------+-----------------+-----------------+---------------+------------------+------------------+-------------------+-------------------+-------+----------+------------------+------------------+------------------+------------------+\n",
      "|CHR|     POS|SNPID|Allele1|Allele2|AC_Allele2|         AF_Allele2|imputationInfo|   N|                BETA|               SE|              Tstat|          p.value|       p.value.NA|Is.SPA.converge|              varT|          varTstar|           AF.Cases|        AF.Controls|N.Cases|N.Controls|homN_Allele2_cases|hetN_Allele2_cases|homN_Allele2_ctrls|hetN_Allele2_ctrls|\n",
      "+---+--------+-----+-------+-------+----------+-------------------+--------------+----+--------------------+-----------------+-------------------+-----------------+-----------------+---------------+------------------+------------------+-------------------+-------------------+-------+----------+------------------+------------------+------------------+------------------+\n",
      "|  1|       4|  rs4|      A|      C|        20|0.00999999977648258|             1|1000|  -0.066582806132741| 0.79264936076774| -0.105974131759662|0.933056171146598|0.933056171146598|              1|  1.59161408049384|  1.69206022628005| 0.0102040816326531|0.00997782705099778|     98|       902|                 0|                 2|                 0|                18|\n",
      "|  1|       9|  rs9|      A|      C|         4| 0.0020000000949949|             1|1000|   -1.37991516103315| 1.55231100410895| -0.572657448531618|0.374034005038446|0.374034005038446|              1| 0.414994678443034|  0.44118483124594|                  0|0.00221729490022173|     98|       902|                 0|                 0|                 0|                 4|\n",
      "|  1|      10| rs10|      A|      C|         4| 0.0020000000949949|             1|1000|   0.658715070972629|  1.4732120860505|  0.303505841144451|0.654782301610716|0.654782301610716|              1| 0.460754360297704| 0.489832388830686|0.00510204081632653| 0.0016629711751663|     98|       902|                 0|                 1|                 0|                 3|\n",
      "|  1|      11| rs11|      A|      C|         2|0.00100000004749745|             1|1000|   -1.11740300996288| 3.48800451933169|-0.0918450508538397|0.748698512232448|0.748698512232448|              1|0.0821950988452152|0.0873823995751489|                  0|0.00110864745011086|     98|       902|                 0|                 0|                 0|                 2|\n",
      "|  1|      12| rs12|      A|      C|        30| 0.0149999996647239|             1|1000| -0.0862006368877215|0.658409968092842| -0.198846375832234|0.895836666110012|0.895836666110012|              1|  2.30678546019604|  2.45236579369024| 0.0153061224489796| 0.0149667405764967|     98|       902|                 0|                 3|                 0|                27|\n",
      "|  1|      14| rs14|      A|      C|        75| 0.0375000014901161|             1|1000| -0.0669530002679642|0.435178489173894| -0.353537269200598|0.877726577950734|0.877726577950734|              1|   5.2803797856055|  5.61362250081629| 0.0306122448979592| 0.0382483370288248|     98|       902|                 1|                 4|                 2|                65|\n",
      "|  1|      15| rs15|      A|      C|       244|  0.122000001370907|             1|1000|  -0.282011432158098|0.247213403956924|  -4.61447911695359|0.253969356725528|0.253969356725528|              1|  16.3627377856323|  17.3953838053051| 0.0969387755102041|  0.124722838137472|     98|       902|                 2|                15|                12|               201|\n",
      "|  1|      17| rs17|      A|      C|        12|0.00600000005215406|             1|1000| -0.0536290299055705|0.833343146743921|-0.0772239842597167|0.948688294598017|0.948688294598017|              1|  1.43996608545208|   1.5308417852333| 0.0102040816326531|0.00554323725055432|     98|       902|                 0|                 2|                 0|                10|\n",
      "|  1|      20| rs20|      A|      C|       762|  0.381000012159348|             1|1000|-0.00288762297101569|0.165440718718244| -0.105500780298394|0.986074330276974|0.986074330276974|              1|  36.5355108188812|  38.8412527013282|   0.36734693877551|  0.382483370288248|     98|       902|                14|                44|               128|               434|\n",
      "|  1|40000000| rs22|      A|      C|       459|  0.229499995708466|             1|1000|   0.144370260855844|0.194239471632261|   3.82650922889997|0.457324809889281|0.457324809889281|              1|  26.5048300544445|   28.177539573866|  0.255102040816327|  0.226718403547672|     98|       902|                 7|                36|                43|               323|\n",
      "+---+--------+-----+-------+-------+----------+-------------------+--------------+----+--------------------+-----------------+-------------------+-----------------+-----------------+---------------+------------------+------------------+-------------------+-------------------+-------+----------+------------------+------------------+------------------+------------------+\n",
      "\n"
     ]
    }
   ],
   "source": [
    "output_df.show()"
   ]
  },
  {
   "cell_type": "code",
   "execution_count": null,
   "metadata": {},
   "outputs": [],
   "source": []
  }
 ],
 "metadata": {
  "kernelspec": {
   "display_name": "PySpark",
   "language": "python",
   "name": "pyspark"
  },
  "language_info": {
   "codemirror_mode": {
    "name": "ipython",
    "version": 3
   },
   "file_extension": ".py",
   "mimetype": "text/x-python",
   "name": "python",
   "nbconvert_exporter": "python",
   "pygments_lexer": "ipython3",
   "version": "3.7.4"
  }
 },
 "nbformat": 4,
 "nbformat_minor": 2
}