{
 "cells": [
  {
   "cell_type": "code",
   "execution_count": 1,
   "metadata": {},
   "outputs": [],
   "source": [
    "import json\n",
    "import glow\n",
    "glow.register(spark)"
   ]
  },
  {
   "cell_type": "code",
   "execution_count": 10,
   "metadata": {},
   "outputs": [],
   "source": [
    "import matplotlib.pyplot as plt\n",
    "import numpy as np\n",
    "\n",
    "from pyspark.sql.functions import *\n",
    "#from pyspark.sql.functions import array_min, col, monotonically_increasing_id, when, log10\n",
    "from pyspark.sql.types import StringType\n",
    "from pyspark.ml.linalg import Vector, Vectors, SparseVector, DenseMatrix\n",
    "from pyspark.ml.stat import Summarizer\n",
    "from pyspark.mllib.linalg.distributed import RowMatrix\n",
    "from pyspark.mllib.util import MLUtils\n",
    "\n",
    "from dataclasses import dataclass\n"
   ]
  },
  {
   "cell_type": "code",
   "execution_count": 11,
   "metadata": {},
   "outputs": [],
   "source": [
    "def plot_layout(plot_title, plot_style, xlabel):\n",
    "  plt.style.use(plot_style) #e.g. ggplot, seaborn-colorblind, print(plt.style.available)\n",
    "  plt.title(plot_title)\n",
    "  plt.xlabel(r'${0}$'.format(xlabel))\n",
    "  plt.gca().spines['right'].set_visible(False)\n",
    "  plt.gca().spines['top'].set_visible(False)\n",
    "  plt.gca().yaxis.set_ticks_position('left')\n",
    "  plt.gca().xaxis.set_ticks_position('bottom')\n",
    "  plt.tight_layout()\n",
    "  \n",
    "def plot_histogram(df, col, xlabel, xmin, xmax, nbins, plot_title, plot_style, color, vline, out_path):\n",
    "  plt.close()\n",
    "  plt.figure()\n",
    "  bins = np.linspace(xmin, xmax, nbins)\n",
    "  df = df.toPandas()\n",
    "  plt.hist(df[col], bins, alpha=1, color=color)\n",
    "  if vline:\n",
    "    plt.axvline(x=vline, linestyle='dashed', linewidth=2.0, color='black')\n",
    "  plot_layout(plot_title, plot_style, xlabel)\n",
    "  plt.savefig(out_path)\n",
    "  plt.show()\n",
    "  \n",
    "def calculate_pval_bonferroni_cutoff(df, cutoff=0.05):\n",
    "  bonferroni_p =  cutoff / df.count()\n",
    "  return bonferroni_p\n",
    "\n",
    "def get_sample_info(vcf_df, sample_metadata_df):\n",
    "  \"\"\"\n",
    "  get sample IDs from VCF dataframe, index them, then join to sample metadata dataframe\n",
    "  \"\"\"\n",
    "  sample_id_list = vcf_df.limit(1).select(\"genotypes.sampleId\").collect()[0].__getitem__(\"sampleId\")\n",
    "  sample_id_indexed = spark.createDataFrame(sample_id_list, StringType()). \\\n",
    "                            coalesce(1). \\\n",
    "                            withColumnRenamed(\"value\", \"Sample\"). \\\n",
    "                            withColumn(\"index\", monotonically_increasing_id())\n",
    "  sample_id_annotated = sample_id_indexed.join(sample_metadata_df, \"Sample\")\n",
    "  return sample_id_annotated"
   ]
  },
  {
   "cell_type": "code",
   "execution_count": 12,
   "metadata": {},
   "outputs": [],
   "source": [
    "#study4_bgen_path = \"gs://confluence_test/study/Study4_GWAS.bgen\"\n",
    "#study4_df = spark.read.format(\"bgen\").load(study4_bgen_path)"
   ]
  },
  {
   "cell_type": "code",
   "execution_count": 13,
   "metadata": {},
   "outputs": [],
   "source": [
    "study4_vcf_path = \"gs://confluence_test/study/Study4_GWAS.vcf\"\n",
    "study4_df = spark.read.format(\"vcf\").load(study4_vcf_path)"
   ]
  },
  {
   "cell_type": "code",
   "execution_count": 14,
   "metadata": {},
   "outputs": [
    {
     "name": "stdout",
     "output_type": "stream",
     "text": [
      "+----------+--------+--------+--------------------+---------------+----------------+----+-------+---------------------+--------------------+\n",
      "|contigName|   start|     end|               names|referenceAllele|alternateAlleles|qual|filters|splitFromMultiAllelic|           genotypes|\n",
      "+----------+--------+--------+--------------------+---------------+----------------+----+-------+---------------------+--------------------+\n",
      "|         5|49405662|49405663|[5:49405663:G:A,---]|              G|             [A]|null|     []|                false|[[1, [0.73, 0.255...|\n",
      "|         5|49405755|49405756|[rs62390078:49405...|              C|             [A]|null|     []|                false|[[1, [0.85, 0.15,...|\n",
      "|         5|49405755|49405756|[rs62390078:49405...|              C|             [T]|null|     []|                false|[[1, [0.209, 0.60...|\n",
      "+----------+--------+--------+--------------------+---------------+----------------+----+-------+---------------------+--------------------+\n",
      "only showing top 3 rows\n",
      "\n"
     ]
    }
   ],
   "source": [
    "study4_df.show(3)"
   ]
  },
  {
   "cell_type": "code",
   "execution_count": 15,
   "metadata": {},
   "outputs": [
    {
     "name": "stdout",
     "output_type": "stream",
     "text": [
      "+----------+--------+--------+--------------------+---------------+----------------+----+-------+---------------------+--------------------+-------------------+-------+---------+----+-----------+-------+--------------+------------+--------------------+--------------------+--------------------+\n",
      "|contigName|   start|     end|               names|referenceAllele|alternateAlleles|qual|filters|splitFromMultiAllelic|           genotypes|           callRate|nCalled|nUncalled|nHet|nHomozygous|nNonRef|nAllelesCalled|alleleCounts|   alleleFrequencies|          hetFreqHwe|           pValueHwe|\n",
      "+----------+--------+--------+--------------------+---------------+----------------+----+-------+---------------------+--------------------+-------------------+-------+---------+----+-----------+-------+--------------+------------+--------------------+--------------------+--------------------+\n",
      "|         5|49405662|49405663|[5:49405663:G:A,---]|              G|             [A]|null|     []|                false|[[1, [0.73, 0.255...| 0.2661849710982659|    921|     2539|  41|      [880]|     41|          1842|  [1801, 41]|[0.97774158523344...| 0.04354959803864326|  0.6828440692612147|\n",
      "|         5|49405755|49405756|[rs62390078:49405...|              C|             [A]|null|     []|                false|[[1, [0.85, 0.15,...| 0.7089595375722544|   2453|     1007|   6|     [2447]|      6|          4906|   [4900, 6]|[0.99877700774561...|0.002443491150447...|  0.5015281164699263|\n",
      "|         5|49405755|49405756|[rs62390078:49405...|              C|             [T]|null|     []|                false|[[1, [0.209, 0.60...|0.18323699421965317|    634|     2826| 345| [169, 120]|    465|          1268|  [683, 585]|[0.53864353312302...|  0.4974056304293159|0.018480249617205114|\n",
      "+----------+--------+--------+--------------------+---------------+----------------+----+-------+---------------------+--------------------+-------------------+-------+---------+----+-----------+-------+--------------+------------+--------------------+--------------------+--------------------+\n",
      "only showing top 3 rows\n",
      "\n"
     ]
    }
   ],
   "source": [
    "study4gwas_variant_stats = study4_df. \\\n",
    "                     selectExpr(\"*\", \"expand_struct(call_summary_stats(genotypes))\", \\\n",
    "                                \"expand_struct(hardy_weinberg(genotypes))\")\n",
    "\n",
    "study4gwas_variant_stats.show(3)"
   ]
  },
  {
   "cell_type": "code",
   "execution_count": 16,
   "metadata": {},
   "outputs": [],
   "source": [
    "allele_freq_cutoff = 0.01\n",
    "hwe = study4gwas_variant_stats. \\\n",
    "                 where((col(\"alleleFrequencies\").getItem(0) >= allele_freq_cutoff) & \n",
    "                       (col(\"alleleFrequencies\").getItem(0) <= (1.0 - allele_freq_cutoff))). \\\n",
    "                 withColumn(\"log10pValueHwe\", when(col(\"pValueHwe\") == 0, 26).otherwise(-log10(col(\"pValueHwe\"))))"
   ]
  },
  {
   "cell_type": "code",
   "execution_count": 17,
   "metadata": {},
   "outputs": [
    {
     "data": {
      "text/plain": [
       "2.4248302618816686e-05"
      ]
     },
     "execution_count": 17,
     "metadata": {},
     "output_type": "execute_result"
    }
   ],
   "source": [
    "hwe_cutoff = calculate_pval_bonferroni_cutoff(hwe)\n",
    "hwe_cutoff"
   ]
  },
  {
   "cell_type": "code",
   "execution_count": 18,
   "metadata": {},
   "outputs": [
    {
     "data": {
      "image/png": "[encoded data removed]",
      "text/plain": [
       "<Figure size 432x288 with 1 Axes>"
      ]
     },
     "metadata": {
      "needs_background": "light"
     },
     "output_type": "display_data"
    }
   ],
   "source": [
    "plot_histogram(df=hwe.select(\"log10pValueHwe\"), \n",
    "                       col=\"log10pValueHwe\",\n",
    "                       xlabel='-log_{10}(P)',\n",
    "                       xmin=0, \n",
    "                       xmax=25, \n",
    "                       nbins=50, \n",
    "                       plot_title=\"hardy-weinberg equilibrium\", \n",
    "                       plot_style=\"ggplot\",\n",
    "                       color='#e41a1c',\n",
    "                       vline = -np.log10(hwe_cutoff),\n",
    "                       out_path = \"/mnt/hwe.png\"\n",
    "                      )"
   ]
  },
  {
   "cell_type": "raw",
   "metadata": {},
   "source": [
    "# filtering variants"
   ]
  },
  {
   "cell_type": "code",
   "execution_count": 19,
   "metadata": {},
   "outputs": [
    {
     "data": {
      "text/plain": [
       "6082"
      ]
     },
     "execution_count": 19,
     "metadata": {},
     "output_type": "execute_result"
    }
   ],
   "source": [
    "study4gwas_variant_stats.count()"
   ]
  },
  {
   "cell_type": "code",
   "execution_count": 20,
   "metadata": {
    "scrolled": true
   },
   "outputs": [
    {
     "data": {
      "text/plain": [
       "2138"
      ]
     },
     "execution_count": 20,
     "metadata": {},
     "output_type": "execute_result"
    }
   ],
   "source": [
    "allele_freq_cutoff = 0.005\n",
    "\n",
    "study4gwas_variant_stats.where((col(\"alleleFrequencies\").getItem(0) >= allele_freq_cutoff) & \n",
    "         (col(\"alleleFrequencies\").getItem(0) <= (1.0 - allele_freq_cutoff)) &\n",
    "         (col(\"pValueHwe\") >= hwe_cutoff)).count()"
   ]
  },
  {
   "cell_type": "code",
   "execution_count": 21,
   "metadata": {},
   "outputs": [],
   "source": [
    "from pyspark.ml.linalg import DenseMatrix\n",
    "import pyspark.sql.functions as fx\n",
    "import numpy as np\n",
    "import pandas as pd"
   ]
  },
  {
   "cell_type": "code",
   "execution_count": 22,
   "metadata": {},
   "outputs": [],
   "source": [
    "phenotypes = pd.read_csv(\"gs://confluence_test/study/Study4_GWAS.samples.tab\", sep=\" \")"
   ]
  },
  {
   "cell_type": "code",
   "execution_count": 23,
   "metadata": {},
   "outputs": [],
   "source": [
    "n_samples = study4_df.select(fx.size('genotypes')).first()[0]\n",
    "covariates = DenseMatrix(n_samples, 1, np.ones(n_samples))\n",
    "\n",
    "covariates_and_phenotypes = spark.createDataFrame([[covariates, phenotypes['status_binary'].to_list()]],\n",
    "  ['covariates', 'status_binary'])\n",
    "\n",
    "log_reg_df = study4_df.crossJoin(covariates_and_phenotypes).selectExpr(\n",
    "  'contigName',\n",
    "  'start',\n",
    "  'names',\n",
    "  'expand_struct(logistic_regression_gwas(genotype_states(genotypes), status_binary, covariates, \\'LRT\\'))')"
   ]
  },
  {
   "cell_type": "code",
   "execution_count": 24,
   "metadata": {},
   "outputs": [
    {
     "name": "stdout",
     "output_type": "stream",
     "text": [
      "+----------+--------+--------------------+--------------------+------------------+----------------------+-------------------+\n",
      "|contigName|   start|               names|                beta|         oddsRatio|waldConfidenceInterval|             pValue|\n",
      "+----------+--------+--------------------+--------------------+------------------+----------------------+-------------------+\n",
      "|         5|49405662|[5:49405663:G:A,---]|-0.00399592286980...|0.9960121589613588|  [0.86530997868577...| 0.9556004613079334|\n",
      "|         5|49405755|[rs62390078:49405...|0.001026005601401...|1.0010265273193015|  [0.86526570494476...| 0.9889914531746664|\n",
      "|         5|49405755|[rs62390078:49405...|-0.02670878077987...|0.9736447163553955|  [0.89553921915160...| 0.5312149933955642|\n",
      "|         5|49405757|[rs376842142:4940...|0.001026042207221...|1.0010265273193362|  [0.86526570494476...| 0.9889914531746664|\n",
      "|         5|49405869|[5:49405870:G:A,---]| 0.09055778515435295|  1.09478425814996|  [0.95134789660488...|0.20589077510955234|\n",
      "+----------+--------+--------------------+--------------------+------------------+----------------------+-------------------+\n",
      "only showing top 5 rows\n",
      "\n"
     ]
    }
   ],
   "source": [
    "log_reg_df.show(5)"
   ]
  },
  {
   "cell_type": "code",
   "execution_count": 25,
   "metadata": {},
   "outputs": [
    {
     "name": "stdout",
     "output_type": "stream",
     "text": [
      "+----------+--------+--------------------+--------------------+------------------+----------------------+-------------------+\n",
      "|contigName|   start|               names|                beta|         oddsRatio|waldConfidenceInterval|             pValue|\n",
      "+----------+--------+--------------------+--------------------+------------------+----------------------+-------------------+\n",
      "|         5|49405869|[5:49405870:G:A,---]| 0.09055778515435295|  1.09478425814996|  [0.95134789660488...|0.20589077510955234|\n",
      "|         5|49405755|[rs62390078:49405...|-0.02670878077987...|0.9736447163553955|  [0.89553921915160...| 0.5312149933955642|\n",
      "|         5|49406652|[rs140332947:4940...|0.002273157907089441|1.0022757434705767|  [0.95073863080443...| 0.9327400571260361|\n",
      "|         5|49406653|[rs145482570:4940...|0.002273157888409735| 1.002275743470577|  [0.95073863080443...| 0.9327400571260361|\n",
      "|         5|49405662|[5:49405663:G:A,---]|-0.00399592286980...|0.9960121589613588|  [0.86530997868577...| 0.9556004613079334|\n",
      "+----------+--------+--------------------+--------------------+------------------+----------------------+-------------------+\n",
      "only showing top 5 rows\n",
      "\n"
     ]
    }
   ],
   "source": [
    "log_reg_df.sort(asc(\"pValue\")).show(5)"
   ]
  },
  {
   "cell_type": "code",
   "execution_count": null,
   "metadata": {},
   "outputs": [],
   "source": []
  }
 ],
 "metadata": {
  "kernelspec": {
   "display_name": "PySpark",
   "language": "python",
   "name": "pyspark"
  },
  "language_info": {
   "codemirror_mode": {
    "name": "ipython",
    "version": 3
   },
   "file_extension": ".py",
   "mimetype": "text/x-python",
   "name": "python",
   "nbconvert_exporter": "python",
   "pygments_lexer": "ipython3",
   "version": "3.7.4"
  }
 },
 "nbformat": 4,
 "nbformat_minor": 4
}